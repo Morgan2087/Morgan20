{
  "cells": [
    {
      "cell_type": "markdown",
      "metadata": {
        "id": "view-in-github",
        "colab_type": "text"
      },
      "source": [
        "<a href=\"https://colab.research.google.com/github/Morgan2087/Morgan20/blob/master/02_and_03_exercises.ipynb\" target=\"_parent\"><img src=\"https://colab.research.google.com/assets/colab-badge.svg\" alt=\"Open In Colab\"/></a>"
      ]
    },
    {
      "cell_type": "markdown",
      "id": "2d19f6f3",
      "metadata": {
        "id": "2d19f6f3"
      },
      "source": [
        "<b> 02 and 03 Exercises </b>"
      ]
    },
    {
      "cell_type": "markdown",
      "id": "fc841134",
      "metadata": {
        "id": "fc841134"
      },
      "source": [
        "<b> 02 Exercises - Data Structures <b>"
      ]
    },
    {
      "cell_type": "markdown",
      "id": "62ff64de",
      "metadata": {
        "id": "62ff64de"
      },
      "source": [
        "Take the following two lists. Create a third list by picking a odd-index elements from the first list and even-index elements from the second.\n",
        "\n",
        "listOne = [3, 6, 9, 12, 15, 18, 21]\n",
        "listTwo = [4, 8, 12, 16, 20, 24, 28]"
      ]
    },
    {
      "cell_type": "code",
      "execution_count": 1,
      "id": "7554ca94",
      "metadata": {
        "colab": {
          "base_uri": "https://localhost:8080/"
        },
        "id": "7554ca94",
        "outputId": "89d1c170-6d00-48af-871b-97cdde664885"
      },
      "outputs": [
        {
          "output_type": "stream",
          "name": "stdout",
          "text": [
            "\n",
            "Element at odd-index positions from list one\n",
            "[6, 12, 18]\n",
            "\n",
            "Element at odd-index positions from list two\n",
            "[4, 12, 20, 28]\n",
            "\n",
            "printing Final thrid list\n",
            "[6, 12, 18, 4, 12, 20, 28]\n"
          ]
        }
      ],
      "source": [
        "listOne = [3,6,9,12,15,18,21]\n",
        "listTwo = [4,8,12,16,20,24,28]\n",
        "\n",
        "listThree = list ()\n",
        "oddElements = listOne[ 1::2]\n",
        "print(); print (\"Element at odd-index positions from list one\")\n",
        "print(oddElements)\n",
        "\n",
        "EvenElement = listTwo[0::2]\n",
        "print(); print (\"Element at odd-index positions from list two\")\n",
        "print(EvenElement)\n",
        "\n",
        "print(); print(\"printing Final thrid list\")\n",
        "listThree.extend(oddElements)\n",
        "listThree.extend(EvenElement)\n",
        "print(listThree)\n",
        "\n",
        "\n",
        "\n"
      ]
    },
    {
      "cell_type": "markdown",
      "id": "6ab75264",
      "metadata": {
        "id": "6ab75264"
      },
      "source": [
        "*Take* the following list. Slice it into three equal chunks and reverse each list.\n",
        "\n",
        "sampleList = [11, 45, 8, 23, 14, 12, 78, 45, 89]"
      ]
    },
    {
      "cell_type": "code",
      "execution_count": 4,
      "id": "9f89b102",
      "metadata": {
        "colab": {
          "base_uri": "https://localhost:8080/"
        },
        "id": "9f89b102",
        "outputId": "7bfb6dd3-4f4a-44e3-e8dc-015d7695c2ab"
      },
      "outputs": [
        {
          "output_type": "stream",
          "name": "stdout",
          "text": [
            "\n",
            "Origigal list  [11, 45, 8, 23, 14, 12, 78, 45, 89]\n",
            "Chunk  1 [11, 45, 8]\n",
            "After reversing it [8, 45, 11]\n",
            "Chunk  2 [23, 14, 12]\n",
            "After reversing it [12, 14, 23]\n",
            "Chunk  3 [78, 45, 89]\n",
            "After reversing it [89, 45, 78]\n"
          ]
        }
      ],
      "source": [
        "sampleList=[11,45,8,23,14,12,78,45,89]\n",
        "\n",
        "print(); print(\"Origigal list \", sampleList)\n",
        "length = len(sampleList)\n",
        "chunkSize = int(length/3)\n",
        "start = 0\n",
        "end = chunkSize\n",
        "for i in range (1, 4, 1):\n",
        "  indexes = slice(start, end, 1)\n",
        "  listChunk = sampleList[indexes]\n",
        "  print(\"Chunk \", i , listChunk)\n",
        "  print(\"After reversing it\", list(reversed(listChunk)))\n",
        "  start = end\n",
        "  if(i !=2):\n",
        "    end +=chunkSize\n",
        "  else:\n",
        "    end += length - chunkSize"
      ]
    },
    {
      "cell_type": "markdown",
      "id": "eaa97400",
      "metadata": {
        "id": "eaa97400"
      },
      "source": [
        "Iterate through a given list and check if a given element already exists in a dictionary as a key’s value. If not, delete it from the list.\n",
        "\n",
        "rollNumber = [47, 64, 69, 37, 76, 83, 95, 97]\n",
        "sampleDict ={'Zach':47, 'Emma':69, 'Kelly':76, 'Jason':97}"
      ]
    },
    {
      "cell_type": "markdown",
      "id": "b9249698",
      "metadata": {
        "id": "b9249698"
      },
      "source": [
        "Write a simple statement to check whether an element exists within a tuple."
      ]
    },
    {
      "cell_type": "code",
      "execution_count": null,
      "id": "73cc5416",
      "metadata": {
        "id": "73cc5416"
      },
      "outputs": [],
      "source": []
    },
    {
      "cell_type": "markdown",
      "id": "9c3672b7",
      "metadata": {
        "id": "9c3672b7"
      },
      "source": [
        "Write a Python function to multiply all the numbers in a list."
      ]
    },
    {
      "cell_type": "code",
      "execution_count": null,
      "id": "ff578435",
      "metadata": {
        "id": "ff578435"
      },
      "outputs": [],
      "source": []
    },
    {
      "cell_type": "markdown",
      "id": "646b97a3",
      "metadata": {
        "id": "646b97a3"
      },
      "source": [
        "Write a Python program to reverse a string. Hint: Use indexing [start:stop:step]"
      ]
    },
    {
      "cell_type": "code",
      "execution_count": null,
      "id": "5e35d7ac",
      "metadata": {
        "id": "5e35d7ac"
      },
      "outputs": [],
      "source": []
    },
    {
      "cell_type": "markdown",
      "id": "c825cadc",
      "metadata": {
        "id": "c825cadc"
      },
      "source": [
        "Describe the difference between floats, integers, and binarys. Bonus: Describe the difference between precision types (i.e float32 and float64) and the relationship it has with system memory."
      ]
    },
    {
      "cell_type": "code",
      "execution_count": null,
      "id": "5dc3f463",
      "metadata": {
        "id": "5dc3f463"
      },
      "outputs": [],
      "source": []
    },
    {
      "cell_type": "markdown",
      "id": "1105fac8",
      "metadata": {
        "id": "1105fac8"
      },
      "source": [
        "Describe the difference between a list, tuple, dict, and set."
      ]
    },
    {
      "cell_type": "code",
      "execution_count": null,
      "id": "26c78688",
      "metadata": {
        "id": "26c78688"
      },
      "outputs": [],
      "source": []
    },
    {
      "cell_type": "markdown",
      "id": "85c3d93e",
      "metadata": {
        "id": "85c3d93e"
      },
      "source": [
        "Describe 3 methods or functions that act upon a list, tuple, dict, and strings (12 total). If citing the same method, describe how it might behave differently between data."
      ]
    },
    {
      "cell_type": "markdown",
      "id": "9422d85e",
      "metadata": {
        "id": "9422d85e"
      },
      "source": [
        "list:\n",
        "\n",
        "tuple:\n",
        "\n",
        "dict:\n",
        "\n",
        "string:"
      ]
    },
    {
      "cell_type": "markdown",
      "id": "8a435dab",
      "metadata": {
        "id": "8a435dab"
      },
      "source": [
        "<b> 03 Exercises - Control Flow <b>"
      ]
    },
    {
      "cell_type": "markdown",
      "id": "da83b7f2",
      "metadata": {
        "id": "da83b7f2"
      },
      "source": [
        "Use a for-loop, iterate over a list, and print each item.\n",
        "\n",
        "list: [1,2,3,4,5,6,7,8,9]"
      ]
    },
    {
      "cell_type": "code",
      "execution_count": null,
      "id": "4c789431",
      "metadata": {
        "id": "4c789431"
      },
      "outputs": [],
      "source": []
    },
    {
      "cell_type": "markdown",
      "id": "4e0e9e7c",
      "metadata": {
        "id": "4e0e9e7c"
      },
      "source": [
        "Using the last code you wrote, print whether the item is even or odd. Hint: Use an if-else sequence and modulus condition."
      ]
    },
    {
      "cell_type": "code",
      "execution_count": null,
      "id": "84d6a899",
      "metadata": {
        "id": "84d6a899"
      },
      "outputs": [],
      "source": []
    },
    {
      "cell_type": "markdown",
      "id": "277a4c8d",
      "metadata": {
        "id": "277a4c8d"
      },
      "source": [
        "Using the last code you wrote, break out of the sequence when the for iteration count is greater than 7. Bonus: Make it break out when the prime number count equals 4 (1,2,3, and 7)."
      ]
    },
    {
      "cell_type": "code",
      "execution_count": null,
      "id": "3ff4656d",
      "metadata": {
        "id": "3ff4656d"
      },
      "outputs": [],
      "source": []
    },
    {
      "cell_type": "markdown",
      "id": "9cb145d6",
      "metadata": {
        "id": "9cb145d6"
      },
      "source": [
        "Guess a number between 1 to 9 given by the user. Hint: Look into the \"random\" function."
      ]
    },
    {
      "cell_type": "code",
      "execution_count": null,
      "id": "c0ed71db",
      "metadata": {
        "id": "c0ed71db"
      },
      "outputs": [],
      "source": []
    },
    {
      "cell_type": "markdown",
      "id": "50163b68",
      "metadata": {
        "id": "50163b68"
      },
      "source": [
        "Check the validity of password input by the user. It must pass these tests:\n",
        "\n",
        "Minimum of 1 letter between [a-z] and 1 letter between [A-Z]\n",
        "\n",
        "Minimum of 1 number between [0-9]\n",
        "\n",
        "Minimum of 1 character from [$#@]\n",
        "\n",
        "Minimum of 6 total characters\n",
        "\n",
        "Maximum of 16 characters"
      ]
    },
    {
      "cell_type": "code",
      "execution_count": null,
      "id": "088a1972",
      "metadata": {
        "id": "088a1972"
      },
      "outputs": [],
      "source": []
    },
    {
      "cell_type": "markdown",
      "id": "57d4ce96",
      "metadata": {
        "id": "57d4ce96"
      },
      "source": [
        "Get input of the age of 3 people by user and determine oldest and youngest among them"
      ]
    },
    {
      "cell_type": "code",
      "execution_count": null,
      "id": "f8ebc6bb",
      "metadata": {
        "id": "f8ebc6bb"
      },
      "outputs": [],
      "source": []
    },
    {
      "cell_type": "markdown",
      "id": "49683521",
      "metadata": {
        "id": "49683521"
      },
      "source": [
        "A student will not be allowed to sit in exam if his/her attendance is less than 75%. Print percentage of class attended.\n",
        "\n",
        "Take following input from user: number of classes held, number of classes attended\n",
        "\n",
        "Is student is allowed to sit in exam or not?"
      ]
    },
    {
      "cell_type": "code",
      "execution_count": null,
      "id": "6a713967",
      "metadata": {
        "id": "6a713967"
      },
      "outputs": [],
      "source": []
    },
    {
      "cell_type": "markdown",
      "id": "9809d83e",
      "metadata": {
        "id": "9809d83e"
      },
      "source": [
        "Get an integer N from the user and perform the following actions:\n",
        "\n",
        "if N is odd, print \"weird\"\n",
        "\n",
        "if N is even and in the inclusive range of 2 to 5, print \"Not Weird\"\n",
        "\n",
        "if N is even and in the inclusive range of 6 to 20, print \"Weird\"\n",
        "\n",
        "if N is even and greater than 20, print \"Not Weird\""
      ]
    },
    {
      "cell_type": "code",
      "execution_count": null,
      "id": "5ae304c1",
      "metadata": {
        "id": "5ae304c1"
      },
      "outputs": [],
      "source": []
    },
    {
      "cell_type": "markdown",
      "id": "4981afa6",
      "metadata": {
        "id": "4981afa6"
      },
      "source": [
        "Define \"recursion\""
      ]
    },
    {
      "cell_type": "code",
      "execution_count": null,
      "id": "bba9d892",
      "metadata": {
        "id": "bba9d892"
      },
      "outputs": [],
      "source": []
    },
    {
      "cell_type": "markdown",
      "id": "37446795",
      "metadata": {
        "id": "37446795"
      },
      "source": [
        "Describe the difference between a for-loop and while-loop"
      ]
    },
    {
      "cell_type": "code",
      "execution_count": null,
      "id": "41a19fbf",
      "metadata": {
        "id": "41a19fbf"
      },
      "outputs": [],
      "source": []
    },
    {
      "cell_type": "markdown",
      "id": "a4726330",
      "metadata": {
        "id": "a4726330"
      },
      "source": [
        "Describe what \"global i\" refers to in the following code, and how it differs from local i."
      ]
    },
    {
      "cell_type": "code",
      "execution_count": null,
      "id": "2c17bb30",
      "metadata": {
        "id": "2c17bb30",
        "outputId": "7b320e9b-263e-4579-a8ad-30c59bdff876"
      },
      "outputs": [
        {
          "name": "stdout",
          "output_type": "stream",
          "text": [
            "2\n",
            "5\n",
            "5\n"
          ]
        }
      ],
      "source": [
        "i=2\n",
        "print(i)\n",
        "\n",
        "def nothing():\n",
        "    global i\n",
        "    i=5\n",
        "    print(i)\n",
        "nothing()\n",
        "print(i)"
      ]
    },
    {
      "cell_type": "markdown",
      "id": "99bbec99",
      "metadata": {
        "id": "99bbec99"
      },
      "source": [
        "Comment the following code."
      ]
    },
    {
      "cell_type": "code",
      "execution_count": null,
      "id": "181d5fa6",
      "metadata": {
        "id": "181d5fa6",
        "outputId": "dd6c2872-3b3c-40fc-9971-10fa9fc537e0"
      },
      "outputs": [
        {
          "name": "stdout",
          "output_type": "stream",
          "text": [
            "[1, 1, 2, 3, 5, 8, 13, 21, 34, 55, 89]\n"
          ]
        }
      ],
      "source": [
        "a, b = 0, 1\n",
        "amax = 100\n",
        "L = []\n",
        "\n",
        "while True:\n",
        "    (a, b) = (b, a + b) #0,1 = 1, 0+1\n",
        "    if a > amax:\n",
        "        break\n",
        "    L.append(a)\n",
        "\n",
        "print(L)"
      ]
    },
    {
      "cell_type": "markdown",
      "id": "f417cd5b",
      "metadata": {
        "id": "f417cd5b"
      },
      "source": [
        "<b> Bonus Exercises </b>"
      ]
    },
    {
      "cell_type": "markdown",
      "id": "5eea9b56",
      "metadata": {
        "id": "5eea9b56"
      },
      "source": [
        "Bonus: Write a Python function to convert a tuple to a string."
      ]
    },
    {
      "cell_type": "code",
      "execution_count": null,
      "id": "dd50e2f8",
      "metadata": {
        "id": "dd50e2f8"
      },
      "outputs": [],
      "source": []
    },
    {
      "cell_type": "markdown",
      "id": "8b6604eb",
      "metadata": {
        "id": "8b6604eb"
      },
      "source": [
        "Bonus: Write a Python program to print a tuple with string formatting. You will need to look into print function parameters and string formatting methods."
      ]
    },
    {
      "cell_type": "code",
      "execution_count": null,
      "id": "10aa0dab",
      "metadata": {
        "id": "10aa0dab"
      },
      "outputs": [],
      "source": []
    },
    {
      "cell_type": "markdown",
      "id": "d22b9747",
      "metadata": {
        "id": "d22b9747"
      },
      "source": [
        "Bonus: Define what a \"hash\" is. Then, get a space-separated list of integers from the user, create a tuple of those integers. Then compute and print the result of hash(tuple).  [Hint](https://docs.python.org/3/library/functions.html#hash). **Hash()**\n",
        "\n",
        "A **[hash](https://en.wikipedia.org/wiki/Hash_function)** is an fixed sized integer that identifies a particular value. Each value needs to have its own hash, so for the same value you will get the same hash even if it's not the same object."
      ]
    },
    {
      "cell_type": "code",
      "execution_count": null,
      "id": "b9ccab42",
      "metadata": {
        "id": "b9ccab42"
      },
      "outputs": [],
      "source": []
    },
    {
      "cell_type": "markdown",
      "id": "4cf6ba94",
      "metadata": {
        "id": "4cf6ba94"
      },
      "source": [
        "Bonus: In mathematics, the quadratic equation ax2+bx+c=0 can be solved with the formula x=−b±√((b2−4ac)/2a).\n",
        "\n",
        "Write a function solve_quadratic, that returns both solutions of a generic quadratic as a pair (2-tuple) when the coefficients are given as parameters. It should work like this:\n",
        "\n",
        "print(solve_quadratic(1,-3,2))\n",
        "(2.0,1.0)\n",
        "print(solve_quadratic(1,2,1))\n",
        "(-1.0,-1.0)\n",
        "You may want to use the math.sqrt function from the math module in your solution. Test that your function works in the main function!"
      ]
    },
    {
      "cell_type": "code",
      "execution_count": null,
      "id": "23b36302",
      "metadata": {
        "id": "23b36302"
      },
      "outputs": [],
      "source": []
    },
    {
      "cell_type": "markdown",
      "id": "09eb1a66",
      "metadata": {
        "id": "09eb1a66"
      },
      "source": [
        "Bonus: Write a Python function that accepts a string and calculate the number of upper case letters and lower case letters."
      ]
    },
    {
      "cell_type": "code",
      "execution_count": null,
      "id": "fb698d22",
      "metadata": {
        "id": "fb698d22"
      },
      "outputs": [],
      "source": []
    },
    {
      "cell_type": "markdown",
      "id": "9c555a0e",
      "metadata": {
        "id": "9c555a0e"
      },
      "source": [
        "<b> Final Bonus: Recursion </b>\n",
        "\n",
        "Tower of Hanoi (Python Program)\n",
        "\n",
        "Tower of Hanoi is a mathematical puzzle where we have three rods and n disks. The objective of the puzzle is to move the entire stack to another rod, obeying the following simple rules:\n",
        "\n",
        "Only one disk can be moved at a time.\n",
        "Each move consists of taking the upper disk from one of the stacks and placing it on top of another stack i.e. a disk can only be moved if it is the uppermost disk on a stack.\n",
        "No disk may be placed on top of a smaller disk.\n",
        "Note: Transferring the top n-1 disks from source rod to Auxilliary rod can again be thought of as a fresh problem and can be solved in the same manner.\n",
        "\n",
        "See image and solution in Notebook-Python-0303."
      ]
    },
    {
      "cell_type": "code",
      "execution_count": null,
      "id": "6640ab46",
      "metadata": {
        "id": "6640ab46"
      },
      "outputs": [],
      "source": []
    }
  ],
  "metadata": {
    "kernelspec": {
      "display_name": "Python 3",
      "language": "python",
      "name": "python3"
    },
    "language_info": {
      "codemirror_mode": {
        "name": "ipython",
        "version": 3
      },
      "file_extension": ".py",
      "mimetype": "text/x-python",
      "name": "python",
      "nbconvert_exporter": "python",
      "pygments_lexer": "ipython3",
      "version": "3.8.11"
    },
    "colab": {
      "provenance": [],
      "include_colab_link": true
    }
  },
  "nbformat": 4,
  "nbformat_minor": 5
}